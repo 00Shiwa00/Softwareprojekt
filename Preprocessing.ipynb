{
 "cells": [
  {
   "cell_type": "code",
   "execution_count": null,
   "metadata": {},
   "outputs": [],
   "source": []
  },
  {
   "cell_type": "code",
   "execution_count": 26,
   "metadata": {},
   "outputs": [
    {
     "name": "stderr",
     "output_type": "stream",
     "text": [
      "[nltk_data] Downloading package stopwords to\n",
      "[nltk_data]     C:\\Users\\Eric\\AppData\\Roaming\\nltk_data...\n",
      "[nltk_data]   Package stopwords is already up-to-date!\n"
     ]
    }
   ],
   "source": [
    "import spacy\n",
    "from spacy.lang.de import German\n",
    "nltk.download('stopwords') \n",
    "de_stop = set(nltk.corpus.stopwords.words('german')) ##zuweisen der deutschen Stoppwörter\n",
    "parser = German()\n",
    "nlp =  spacy.load('de_core_news_sm')\n",
    "\n",
    "def tokenize(text):\n",
    "    lda_tokens = []\n",
    "    tokens = parser(text)## Tokenbildung\n",
    "    for token in tokens:\n",
    "        if token.orth_.isspace(): ##getrennte Wörter zuammenschreiben (theoretisch: Eis bär --> Eisbär)\n",
    "            continue\n",
    "        elif token.like_url:\n",
    "            lda_tokens.append('URL')   ## URLs duurch URL ersetzen\n",
    "        elif token.orth_.startswith('@'): ##ersetzen von @abc durch SCREEN_NAME\n",
    "            lda_tokens.append('SCREEN_NAME')\n",
    "        else:\n",
    "            lda_tokens.append(token.lower_) ##alles kleinschreiben\n",
    "    return lda_tokens\n",
    "\n",
    "    \n",
    "def get_lemma(tokens):\n",
    "    array = []\n",
    "    a = nlp(tokens) ##Lemmas bilden\n",
    "    for token in a:\n",
    "        array.append(token.lemma_) ##Lemmas in array speichern und zurückgeben\n",
    "    return array\n",
    "    \n",
    "\n",
    "def Preprocessing(text):\n",
    "    tokens = tokenize(text)  ##Tokenisierung    \n",
    "    tokens = [token for token in tokens if len(token) > 3] ##rausfiltern von allen Wörtern mit weniger als 3 Buchstaben\n",
    "    tokens = [token for token in tokens if token not in de_stop] ## Stopwörter filtern\n",
    "    tokens = [get_lemma(token) for token in tokens] ##Lemmas bilden\n",
    "    return tokens  ## Token des Textes zurück geben\n",
    "\n",
    "def Preprocessing2(text):\n",
    "    tokens = get_lemma(text) ##Lemmas bilden und Tokenisierung\n",
    "    tokens = [token for token in tokens if len(token) > 3] ##rausfiltern von allen Wörtern mit weniger als 3 Buchstaben    \n",
    "    tokens = [token for token in tokens if token not in de_stop] ## Stopwörter filtern\n",
    "    tokens = [token.lower() for token in tokens]\n",
    "    tokens = [token for token in tokens if token[0] != \"@\"]\n",
    "    return tokens  ## Token des Textes zurück geben"
   ]
  },
  {
   "cell_type": "code",
   "execution_count": 27,
   "metadata": {
    "scrolled": true
   },
   "outputs": [
    {
     "name": "stdout",
     "output_type": "stream",
     "text": [
      "@corinnamilborn Liebe Corinna, wir würden dich gerne als Moderatorin für uns gewinnen! Wärst du begeisterbar?\n",
      "['lieben', 'corinna', 'gerne', 'moderatorin', 'gewinnen', 'begeisterbar']\n",
      "[['SCREEN_NAME'], ['lieb'], ['corinna'], ['gerne'], ['moderatorin'], ['gewinnen'], ['sein'], ['begeisterbar']]\n"
     ]
    }
   ],
   "source": [
    "text = \"@corinnamilborn Liebe Corinna, wir würden dich gerne als Moderatorin für uns gewinnen! Wärst du begeisterbar?\"\n",
    "print(text)\n",
    "print(Preprocessing2(text))\n",
    "print(Preprocessing(text))"
   ]
  }
 ],
 "metadata": {
  "kernelspec": {
   "display_name": "Python 3",
   "language": "python",
   "name": "python3"
  },
  "language_info": {
   "codemirror_mode": {
    "name": "ipython",
    "version": 3
   },
   "file_extension": ".py",
   "mimetype": "text/x-python",
   "name": "python",
   "nbconvert_exporter": "python",
   "pygments_lexer": "ipython3",
   "version": "3.7.6"
  }
 },
 "nbformat": 4,
 "nbformat_minor": 4
}
